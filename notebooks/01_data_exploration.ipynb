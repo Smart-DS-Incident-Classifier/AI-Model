{
 "cells": [
  {
   "cell_type": "markdown",
   "metadata": {},
   "source": [
    "#### EDA\n"
   ]
  },
  {
   "cell_type": "code",
   "execution_count": 13,
   "metadata": {},
   "outputs": [],
   "source": [
    "import pandas as pd\n",
    "import numpy as np\n",
    "import matplotlib.pyplot as plt\n",
    "import seaborn as sns"
   ]
  },
  {
   "cell_type": "code",
   "execution_count": 5,
   "metadata": {},
   "outputs": [
    {
     "data": {
      "text/html": [
       "<div>\n",
       "<style scoped>\n",
       "    .dataframe tbody tr th:only-of-type {\n",
       "        vertical-align: middle;\n",
       "    }\n",
       "\n",
       "    .dataframe tbody tr th {\n",
       "        vertical-align: top;\n",
       "    }\n",
       "\n",
       "    .dataframe thead th {\n",
       "        text-align: right;\n",
       "    }\n",
       "</style>\n",
       "<table border=\"1\" class=\"dataframe\">\n",
       "  <thead>\n",
       "    <tr style=\"text-align: right;\">\n",
       "      <th></th>\n",
       "      <th>LineId</th>\n",
       "      <th>Date</th>\n",
       "      <th>Time</th>\n",
       "      <th>Level</th>\n",
       "      <th>Process</th>\n",
       "      <th>Component</th>\n",
       "      <th>Content</th>\n",
       "      <th>EventId</th>\n",
       "      <th>EventTemplate</th>\n",
       "    </tr>\n",
       "  </thead>\n",
       "  <tbody>\n",
       "    <tr>\n",
       "      <th>0</th>\n",
       "      <td>1</td>\n",
       "      <td>2015-10-18</td>\n",
       "      <td>18:01:47,978</td>\n",
       "      <td>INFO</td>\n",
       "      <td>main</td>\n",
       "      <td>org.apache.hadoop.mapreduce.v2.app.MRAppMaster</td>\n",
       "      <td>Created MRAppMaster for application appattempt...</td>\n",
       "      <td>E29</td>\n",
       "      <td>Created MRAppMaster for application appattempt...</td>\n",
       "    </tr>\n",
       "    <tr>\n",
       "      <th>1</th>\n",
       "      <td>2</td>\n",
       "      <td>2015-10-18</td>\n",
       "      <td>18:01:48,963</td>\n",
       "      <td>INFO</td>\n",
       "      <td>main</td>\n",
       "      <td>org.apache.hadoop.mapreduce.v2.app.MRAppMaster</td>\n",
       "      <td>Executing with tokens:</td>\n",
       "      <td>E42</td>\n",
       "      <td>Executing with tokens:</td>\n",
       "    </tr>\n",
       "    <tr>\n",
       "      <th>2</th>\n",
       "      <td>3</td>\n",
       "      <td>2015-10-18</td>\n",
       "      <td>18:01:48,963</td>\n",
       "      <td>INFO</td>\n",
       "      <td>main</td>\n",
       "      <td>org.apache.hadoop.mapreduce.v2.app.MRAppMaster</td>\n",
       "      <td>Kind: YARN_AM_RM_TOKEN, Service: , Ident: (app...</td>\n",
       "      <td>E61</td>\n",
       "      <td>Kind: YARN_AM_RM_TOKEN, Service: , Ident: (app...</td>\n",
       "    </tr>\n",
       "    <tr>\n",
       "      <th>3</th>\n",
       "      <td>4</td>\n",
       "      <td>2015-10-18</td>\n",
       "      <td>18:01:49,228</td>\n",
       "      <td>INFO</td>\n",
       "      <td>main</td>\n",
       "      <td>org.apache.hadoop.mapreduce.v2.app.MRAppMaster</td>\n",
       "      <td>Using mapred newApiCommitter.</td>\n",
       "      <td>E111</td>\n",
       "      <td>Using mapred newApiCommitter.</td>\n",
       "    </tr>\n",
       "    <tr>\n",
       "      <th>4</th>\n",
       "      <td>5</td>\n",
       "      <td>2015-10-18</td>\n",
       "      <td>18:01:50,353</td>\n",
       "      <td>INFO</td>\n",
       "      <td>main</td>\n",
       "      <td>org.apache.hadoop.mapreduce.v2.app.MRAppMaster</td>\n",
       "      <td>OutputCommitter set in config null</td>\n",
       "      <td>E76</td>\n",
       "      <td>OutputCommitter set in config null</td>\n",
       "    </tr>\n",
       "  </tbody>\n",
       "</table>\n",
       "</div>"
      ],
      "text/plain": [
       "   LineId        Date          Time Level Process  \\\n",
       "0       1  2015-10-18  18:01:47,978  INFO    main   \n",
       "1       2  2015-10-18  18:01:48,963  INFO    main   \n",
       "2       3  2015-10-18  18:01:48,963  INFO    main   \n",
       "3       4  2015-10-18  18:01:49,228  INFO    main   \n",
       "4       5  2015-10-18  18:01:50,353  INFO    main   \n",
       "\n",
       "                                        Component  \\\n",
       "0  org.apache.hadoop.mapreduce.v2.app.MRAppMaster   \n",
       "1  org.apache.hadoop.mapreduce.v2.app.MRAppMaster   \n",
       "2  org.apache.hadoop.mapreduce.v2.app.MRAppMaster   \n",
       "3  org.apache.hadoop.mapreduce.v2.app.MRAppMaster   \n",
       "4  org.apache.hadoop.mapreduce.v2.app.MRAppMaster   \n",
       "\n",
       "                                             Content EventId  \\\n",
       "0  Created MRAppMaster for application appattempt...     E29   \n",
       "1                             Executing with tokens:     E42   \n",
       "2  Kind: YARN_AM_RM_TOKEN, Service: , Ident: (app...     E61   \n",
       "3                      Using mapred newApiCommitter.    E111   \n",
       "4                 OutputCommitter set in config null     E76   \n",
       "\n",
       "                                       EventTemplate  \n",
       "0  Created MRAppMaster for application appattempt...  \n",
       "1                             Executing with tokens:  \n",
       "2  Kind: YARN_AM_RM_TOKEN, Service: , Ident: (app...  \n",
       "3                      Using mapred newApiCommitter.  \n",
       "4                 OutputCommitter set in config null  "
      ]
     },
     "execution_count": 5,
     "metadata": {},
     "output_type": "execute_result"
    }
   ],
   "source": [
    "structured_logs = pd.read_csv('../data/raw/Hadoop_2k.log_structured.csv')\n",
    "structured_logs.head()"
   ]
  },
  {
   "cell_type": "code",
   "execution_count": 6,
   "metadata": {},
   "outputs": [
    {
     "data": {
      "text/plain": [
       "LineId           0\n",
       "Date             0\n",
       "Time             0\n",
       "Level            0\n",
       "Process          0\n",
       "Component        0\n",
       "Content          0\n",
       "EventId          0\n",
       "EventTemplate    0\n",
       "dtype: int64"
      ]
     },
     "execution_count": 6,
     "metadata": {},
     "output_type": "execute_result"
    }
   ],
   "source": [
    "structured_logs.isnull().sum()"
   ]
  },
  {
   "cell_type": "code",
   "execution_count": 7,
   "metadata": {},
   "outputs": [
    {
     "data": {
      "text/html": [
       "<div>\n",
       "<style scoped>\n",
       "    .dataframe tbody tr th:only-of-type {\n",
       "        vertical-align: middle;\n",
       "    }\n",
       "\n",
       "    .dataframe tbody tr th {\n",
       "        vertical-align: top;\n",
       "    }\n",
       "\n",
       "    .dataframe thead th {\n",
       "        text-align: right;\n",
       "    }\n",
       "</style>\n",
       "<table border=\"1\" class=\"dataframe\">\n",
       "  <thead>\n",
       "    <tr style=\"text-align: right;\">\n",
       "      <th></th>\n",
       "      <th>EventId</th>\n",
       "      <th>EventTemplate</th>\n",
       "    </tr>\n",
       "  </thead>\n",
       "  <tbody>\n",
       "    <tr>\n",
       "      <th>0</th>\n",
       "      <td>E1</td>\n",
       "      <td>&lt;*&gt; failures on node MININT-&lt;*&gt;</td>\n",
       "    </tr>\n",
       "    <tr>\n",
       "      <th>1</th>\n",
       "      <td>E2</td>\n",
       "      <td>Added attempt_&lt;*&gt; to list of failed maps</td>\n",
       "    </tr>\n",
       "    <tr>\n",
       "      <th>2</th>\n",
       "      <td>E3</td>\n",
       "      <td>Added filter AM_PROXY_FILTER (class=org.apache...</td>\n",
       "    </tr>\n",
       "    <tr>\n",
       "      <th>3</th>\n",
       "      <td>E4</td>\n",
       "      <td>Added filter AM_PROXY_FILTER (class=org.apache...</td>\n",
       "    </tr>\n",
       "    <tr>\n",
       "      <th>4</th>\n",
       "      <td>E5</td>\n",
       "      <td>Added global filter 'safety' (class=org.apache...</td>\n",
       "    </tr>\n",
       "  </tbody>\n",
       "</table>\n",
       "</div>"
      ],
      "text/plain": [
       "  EventId                                      EventTemplate\n",
       "0      E1                    <*> failures on node MININT-<*>\n",
       "1      E2           Added attempt_<*> to list of failed maps\n",
       "2      E3  Added filter AM_PROXY_FILTER (class=org.apache...\n",
       "3      E4  Added filter AM_PROXY_FILTER (class=org.apache...\n",
       "4      E5  Added global filter 'safety' (class=org.apache..."
      ]
     },
     "execution_count": 7,
     "metadata": {},
     "output_type": "execute_result"
    }
   ],
   "source": [
    "events = pd.read_csv('../data/raw/Hadoop_2k.log_templates.csv')\n",
    "events.head()"
   ]
  },
  {
   "cell_type": "code",
   "execution_count": 8,
   "metadata": {},
   "outputs": [
    {
     "data": {
      "text/plain": [
       "EventId          0\n",
       "EventTemplate    0\n",
       "dtype: int64"
      ]
     },
     "execution_count": 8,
     "metadata": {},
     "output_type": "execute_result"
    }
   ],
   "source": [
    "events.isnull().sum()"
   ]
  },
  {
   "cell_type": "code",
   "execution_count": 15,
   "metadata": {},
   "outputs": [
    {
     "name": "stderr",
     "output_type": "stream",
     "text": [
      "C:\\Users\\Henry\\AppData\\Local\\Temp\\ipykernel_60152\\2765336625.py:5: FutureWarning: \n",
      "\n",
      "Passing `palette` without assigning `hue` is deprecated and will be removed in v0.14.0. Assign the `x` variable to `hue` and set `legend=False` for the same effect.\n",
      "\n",
      "  sns.barplot(x=event_freq.index, y=event_freq.values, palette='viridis')\n"
     ]
    },
    {
     "data": {
      "image/png": "[encoded data removed]",
      "text/plain": [
       "<Figure size 1000x600 with 1 Axes>"
      ]
     },
     "metadata": {},
     "output_type": "display_data"
    }
   ],
   "source": [
    "plt.style.use('_mpl-gallery')\n",
    "\n",
    "plt.figure(figsize=(10, 6))\n",
    "event_freq = structured_logs['EventId'].value_counts()\n",
    "sns.barplot(x=event_freq.index, y=event_freq.values, palette='viridis')\n",
    "plt.title('Frequency of EventId')\n",
    "plt.xlabel('EventId')\n",
    "plt.ylabel('Frequency')\n",
    "plt.xticks(rotation=90)  # Rotate x-axis labels if they are too long\n",
    "plt.show()\n"
   ]
  }
 ],
 "metadata": {
  "kernelspec": {
   "display_name": "venv",
   "language": "python",
   "name": "python3"
  },
  "language_info": {
   "codemirror_mode": {
    "name": "ipython",
    "version": 3
   },
   "file_extension": ".py",
   "mimetype": "text/x-python",
   "name": "python",
   "nbconvert_exporter": "python",
   "pygments_lexer": "ipython3",
   "version": "3.12.6"
  }
 },
 "nbformat": 4,
 "nbformat_minor": 2
}
